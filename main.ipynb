{
 "cells": [
  {
   "cell_type": "code",
   "execution_count": 3,
   "metadata": {},
   "outputs": [],
   "source": [
    "import pandas as pd\n",
    "import matplotlib.pyplot as plt\n",
    "import re"
   ]
  },
  {
   "cell_type": "code",
   "execution_count": 4,
   "metadata": {},
   "outputs": [],
   "source": [
    "def is_message(line):\n",
    "    return re.match(r'\\d{1,2}/\\d{1,2}/\\d{2}, \\d{1,2}:\\d{2}', line)"
   ]
  },
  {
   "cell_type": "code",
   "execution_count": 5,
   "metadata": {},
   "outputs": [],
   "source": [
    "with open('#####.txt', 'r', encoding='utf-8') as file: # modificar o nome do arquivo\n",
    "    lines = file.readlines()\n",
    "\n",
    "dates = []\n",
    "hours = []\n",
    "senders = []\n",
    "messages = []\n"
   ]
  },
  {
   "cell_type": "code",
   "execution_count": 6,
   "metadata": {},
   "outputs": [],
   "source": [
    "for line in lines:\n",
    "    line = line.strip()\n",
    "\n",
    "    if is_message(line):\n",
    "        # Extrair a data, o remetente e o conteúdo da primeira linha da mensagem\n",
    "        date_match = re.match(r'(\\d{1,2}/\\d{1,2}/\\d{2}), (\\d{1,2}:\\d{2}) - (.*?): (.*)', line)\n",
    "        if date_match:\n",
    "            dates.append(date_match.group(1))    # Data\n",
    "            hours.append(date_match.group(2))    # Hora\n",
    "            senders.append(date_match.group(3))  # Remetente\n",
    "            messages.append(date_match.group(4)) # Primeira linha do conteúdo\n",
    "            \n",
    "df = pd.DataFrame({'Data': dates, 'Hora': hours, 'Remetente': senders, 'Conteúdo': messages})\n"
   ]
  },
  {
   "cell_type": "code",
   "execution_count": null,
   "metadata": {},
   "outputs": [],
   "source": [
    "print(df) # Teste"
   ]
  },
  {
   "cell_type": "markdown",
   "metadata": {},
   "source": [
    "Resumo das conversas: apresenta uma lista de remetentes e o total de conversas para cada um, ordenando pelo remetente com maior quantidade para o menor."
   ]
  },
  {
   "cell_type": "code",
   "execution_count": null,
   "metadata": {},
   "outputs": [],
   "source": [
    "resumo_conversas = df['Remetente'].value_counts().reset_index()\n",
    "resumo_conversas.columns = ['Remetente', 'Total de Mensagens']\n",
    "resumo_conversas = resumo_conversas.sort_values(by='Total de Mensagens', ascending=False).reset_index(drop=True)\n",
    "\n",
    "print(resumo_conversas)"
   ]
  }
 ],
 "metadata": {
  "kernelspec": {
   "display_name": "Python 3",
   "language": "python",
   "name": "python3"
  },
  "language_info": {
   "codemirror_mode": {
    "name": "ipython",
    "version": 3
   },
   "file_extension": ".py",
   "mimetype": "text/x-python",
   "name": "python",
   "nbconvert_exporter": "python",
   "pygments_lexer": "ipython3",
   "version": "3.12.5"
  }
 },
 "nbformat": 4,
 "nbformat_minor": 2
}
